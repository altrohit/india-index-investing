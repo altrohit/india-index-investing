{
 "cells": [
  {
   "cell_type": "code",
   "execution_count": 28,
   "metadata": {},
   "outputs": [],
   "source": [
    "import pandas as pd\n",
    "# import yfinance as yf"
   ]
  },
  {
   "cell_type": "code",
   "execution_count": 29,
   "metadata": {},
   "outputs": [],
   "source": [
    "def fill_missing_returns(df):\n",
    "    # Step 1: Calculate average returns for 1yr, 3yr, 5yr returns, ignoring missing values\n",
    "    avg_1yr_return = df['1yr Annualized Return'].mean()\n",
    "    avg_3yr_return = df['3yr Annualized Return'].mean()\n",
    "    avg_5yr_return = df['5yr Annualized Return'].mean()\n",
    "\n",
    "    # Step 2: Fill missing return values with average return - tracking error\n",
    "    df['1yr Annualized Return'] = df.apply(\n",
    "        lambda row: avg_1yr_return - row['Tracking Error'] if pd.isna(row['1yr Annualized Return']) else row['1yr Annualized Return'], axis=1)\n",
    "    df['3yr Annualized Return'] = df.apply(\n",
    "        lambda row: avg_3yr_return - row['Tracking Error'] if pd.isna(row['3yr Annualized Return']) else row['3yr Annualized Return'], axis=1)\n",
    "    df['5yr Annualized Return'] = df.apply(\n",
    "        lambda row: avg_5yr_return - row['Tracking Error'] if pd.isna(row['5yr Annualized Return']) else row['5yr Annualized Return'], axis=1)\n",
    "    return df\n"
   ]
  },
  {
   "cell_type": "code",
   "execution_count": 30,
   "metadata": {},
   "outputs": [],
   "source": [
    "def convert_to_float(df):\n",
    "    df['Expense ratio'] = df['Expense ratio'].apply(lambda x: pd.to_numeric(x, errors='coerce') if isinstance(x, str) else x)\n",
    "    df['Tracking Error'] = df['Tracking Error'].apply(lambda x: pd.to_numeric(x, errors='coerce') if isinstance(x, str) else x)\n",
    "    df['AUM'] = df['AUM'].apply(lambda x: pd.to_numeric(x.replace(',', ''), errors='coerce') if isinstance(x, str) else x)\n",
    "    df['1yr Annualized Return'] = df['1yr Annualized Return'].apply(lambda x: pd.to_numeric(x, errors='coerce') if isinstance(x, str) else x)\n",
    "    df['3yr Annualized Return'] = df['3yr Annualized Return'].apply(lambda x: pd.to_numeric(x, errors='coerce') if isinstance(x, str) else x)\n",
    "    df['5yr Annualized Return'] = df['5yr Annualized Return'].apply(lambda x: pd.to_numeric(x, errors='coerce') if isinstance(x, str) else x)\n",
    "    return df\n",
    "\n",
    "def normalize_data(df):\n",
    "    # Normalizing the data\n",
    "    df['Expense_ratio_normalized'] = (df['Expense ratio'].max() - df['Expense ratio']) / (df['Expense ratio'].max() - df['Expense ratio'].min())\n",
    "    df['Tracking_Error_normalized'] = (df['Tracking Error'].max() - df['Tracking Error']) / (df['Tracking Error'].max() - df['Tracking Error'].min())\n",
    "    df['AUM_normalized'] = (df['AUM'] - df['AUM'].min()) / (df['AUM'].max() - df['AUM'].min())\n",
    "\n",
    "    # Normalizing the returns\n",
    "    df['Return_normalized'] = (\n",
    "        ((df['1yr Annualized Return'] - df['1yr Annualized Return'].min()) / (df['1yr Annualized Return'].max() - df['1yr Annualized Return'].min())) +\n",
    "        ((df['3yr Annualized Return'] - df['3yr Annualized Return'].min()) / (df['3yr Annualized Return'].max() - df['3yr Annualized Return'].min())) +\n",
    "        ((df['5yr Annualized Return'] - df['5yr Annualized Return'].min()) / (df['5yr Annualized Return'].max() - df['5yr Annualized Return'].min()))\n",
    "    ) / 3  # Average of normalized returns\n",
    "    \n",
    "    return df\n",
    "\n",
    "def calculate_total_score(df):\n",
    "    # Step 4: Calculate the total score using weightages\n",
    "    df['Total_Score'] = (\n",
    "                        df['Expense_ratio_normalized'] * 0.35 +\n",
    "                        df['Tracking_Error_normalized'] * 0.25 +\n",
    "                        df['AUM_normalized'] * 0.15 +\n",
    "                        df['Return_normalized'] * 0.25)\n",
    "    return df\n",
    "\n",
    "def rank_funds(df):\n",
    "    df['Rank'] = df['Total_Score'].rank(ascending=False)\n",
    "    df = df.sort_values(by='Rank')\n",
    "    return df\n"
   ]
  },
  {
   "cell_type": "code",
   "execution_count": 32,
   "metadata": {},
   "outputs": [],
   "source": [
    "def process_fund_data(file_path):\n",
    "    df = pd.read_csv(file_path)\n",
    "    df = fill_missing_returns(df)\n",
    "    df = convert_to_float(df)\n",
    "    df = normalize_data(df)\n",
    "    df = calculate_total_score(df)\n",
    "    df = rank_funds(df)\n",
    "    return df"
   ]
  },
  {
   "cell_type": "code",
   "execution_count": 33,
   "metadata": {},
   "outputs": [
    {
     "name": "stdout",
     "output_type": "stream",
     "text": [
      "                                              Fund  Total_Score  Rank\n",
      "5        ICICI Prudential Nifty Next 50 Index Fund     0.588158   1.0\n",
      "10                    UTI Nifty Next 50 Index Fund     0.541256   2.0\n",
      "9                     SBI Nifty Next 50 Index Fund     0.512102   3.0\n",
      "2                     DSP Nifty Next 50 Index Fund     0.505126   4.0\n",
      "6                   Kotak Nifty Next 50 Index Fund     0.391928   5.0\n",
      "7           Motilal Oswal Nifty Next 50 Index Fund     0.379446   6.0\n",
      "8                    Navi Nifty Next 50 Index Fund     0.371123   7.0\n",
      "3                    HDFC NIFTY Next 50 Index Fund     0.362571   8.0\n",
      "0   Aditya Birla Sun Life Nifty Next 50 Index Fund     0.332786   9.0\n",
      "4                    HSBC Nifty Next 50 Index Fund     0.281632  10.0\n",
      "1                    Axis Nifty Next 50 Index Fund     0.237754  11.0\n"
     ]
    }
   ],
   "source": [
    "nifty50_df = process_fund_data('../data/niftynext50.csv')\n",
    "\n",
    "print(nifty50_df[['Fund', 'Total_Score', 'Rank']])"
   ]
  },
  {
   "cell_type": "code",
   "execution_count": 34,
   "metadata": {},
   "outputs": [
    {
     "name": "stdout",
     "output_type": "stream",
     "text": [
      "                                              Fund  Total_Score  Rank\n",
      "5        ICICI Prudential Nifty Next 50 Index Fund     0.588158   1.0\n",
      "10                    UTI Nifty Next 50 Index Fund     0.541256   2.0\n",
      "9                     SBI Nifty Next 50 Index Fund     0.512102   3.0\n",
      "2                     DSP Nifty Next 50 Index Fund     0.505126   4.0\n",
      "6                   Kotak Nifty Next 50 Index Fund     0.391928   5.0\n",
      "7           Motilal Oswal Nifty Next 50 Index Fund     0.379446   6.0\n",
      "8                    Navi Nifty Next 50 Index Fund     0.371123   7.0\n",
      "3                    HDFC NIFTY Next 50 Index Fund     0.362571   8.0\n",
      "0   Aditya Birla Sun Life Nifty Next 50 Index Fund     0.332786   9.0\n",
      "4                    HSBC Nifty Next 50 Index Fund     0.281632  10.0\n",
      "1                    Axis Nifty Next 50 Index Fund     0.237754  11.0\n"
     ]
    }
   ],
   "source": [
    "nn50_df = process_fund_data('../data/niftynext50.csv')\n",
    "print(nn50_df[['Fund', 'Total_Score', 'Rank']])\n"
   ]
  },
  {
   "cell_type": "code",
   "execution_count": 37,
   "metadata": {},
   "outputs": [
    {
     "name": "stdout",
     "output_type": "stream",
     "text": [
      "                                     Fund  Total_Score  Rank\n",
      "1          Motilal Oswal Nifty Midcap 150     0.770095   1.0\n",
      "3           Nippon India Nifty Midcap 150     0.620828   2.0\n",
      "5       ICICI Prudential Nifty Midcap 150     0.548547   3.0\n",
      "0        Navi Nifty Midcap 150 Index Fund     0.512988   4.0\n",
      "2                   HDFC Nifty Midcap 150     0.506178   5.0\n",
      "4                    SBI Nifty Midcap 150     0.424632   6.0\n",
      "6  Aditya Birla Sun Life Nifty Midcap 150     0.090465   7.0\n"
     ]
    }
   ],
   "source": [
    "midcap150_df = process_fund_data('../data/midcap150.csv')\n",
    "print(midcap150_df[['Fund', 'Total_Score', 'Rank']])"
   ]
  },
  {
   "cell_type": "code",
   "execution_count": 40,
   "metadata": {},
   "outputs": [
    {
     "name": "stdout",
     "output_type": "stream",
     "text": [
      "                                                Fund  Total_Score  Rank\n",
      "6        Motilal Oswal Nifty Smallcap 250 Index Fund     0.594843   1.0\n",
      "9            Edelweiss Nifty Smallcap 250 Index Fund     0.582855   2.0\n",
      "4     ICICI Prudential Nifty Smallcap 250 Index Fund     0.560748   3.0\n",
      "7         Nippon India Nifty Smallcap 250 Index Fund     0.552561   4.0\n",
      "3                 HDFC NIFTY Smallcap 250 Index Fund     0.539139   5.0\n",
      "8                  SBI Nifty Smallcap 250 Index Fund     0.520715   6.0\n",
      "1                  Axis Nifty Smallcap 50 Index Fund     0.457480   7.0\n",
      "5        Motilal Oswal Nifty Microcap 250 Index Fund     0.426927   8.0\n",
      "2                 Kotak Nifty Smallcap 50 Index Fund     0.255728   9.0\n",
      "0  Aditya Birla Sun Life Nifty Smallcap 50 Index ...     0.087673  10.0\n"
     ]
    }
   ],
   "source": [
    "\n",
    "smallcap250_df = process_fund_data('../data/smallcap250.csv')\n",
    "print(smallcap250_df[['Fund', 'Total_Score', 'Rank']])"
   ]
  }
 ],
 "metadata": {
  "kernelspec": {
   "display_name": "base",
   "language": "python",
   "name": "python3"
  },
  "language_info": {
   "codemirror_mode": {
    "name": "ipython",
    "version": 3
   },
   "file_extension": ".py",
   "mimetype": "text/x-python",
   "name": "python",
   "nbconvert_exporter": "python",
   "pygments_lexer": "ipython3",
   "version": "3.11.4"
  }
 },
 "nbformat": 4,
 "nbformat_minor": 2
}
